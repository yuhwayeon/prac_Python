{
 "cells": [
  {
   "cell_type": "code",
   "execution_count": 11,
   "id": "095ca241",
   "metadata": {},
   "outputs": [
    {
     "name": "stdout",
     "output_type": "stream",
     "text": [
      "[8.8, 8.9, 8.7, 9.2, 9.3, 9.7, 9.9, 9.5]\n"
     ]
    }
   ],
   "source": [
    "#081 별 표현식\n",
    "scores = [8.8, 8.9, 8.7, 9.2, 9.3, 9.7, 9.9, 9.5, 7.8, 9.4]\n",
    "*valid_score,a,b = scores\n",
    "print(valid_score)"
   ]
  },
  {
   "cell_type": "code",
   "execution_count": 14,
   "id": "c1ad3904",
   "metadata": {},
   "outputs": [
    {
     "name": "stdout",
     "output_type": "stream",
     "text": [
      "[8.7, 9.2, 9.3, 9.7, 9.9, 9.5, 7.8, 9.4]\n"
     ]
    }
   ],
   "source": [
    "#082 \n",
    "scores = [8.8, 8.9, 8.7, 9.2, 9.3, 9.7, 9.9, 9.5, 7.8, 9.4]\n",
    "a,b,*valid_score=scores\n",
    "print(valid_score)"
   ]
  },
  {
   "cell_type": "code",
   "execution_count": 15,
   "id": "af0bc114",
   "metadata": {},
   "outputs": [
    {
     "name": "stdout",
     "output_type": "stream",
     "text": [
      "[8.9, 8.7, 9.2, 9.3, 9.7, 9.9, 9.5, 7.8]\n"
     ]
    }
   ],
   "source": [
    "#083 \n",
    "scores = [8.8, 8.9, 8.7, 9.2, 9.3, 9.7, 9.9, 9.5, 7.8, 9.4]\n",
    "a,*valid_score,b = scores \n",
    "print(valid_score)"
   ]
  },
  {
   "cell_type": "code",
   "execution_count": 17,
   "id": "2d5ffbb2",
   "metadata": {},
   "outputs": [
    {
     "name": "stdout",
     "output_type": "stream",
     "text": [
      "<class 'dict'>\n"
     ]
    }
   ],
   "source": [
    "#084 비어있는 딕셔너리\n",
    "temp = { }\n",
    "print(type(temp))"
   ]
  },
  {
   "cell_type": "code",
   "execution_count": 18,
   "id": "376251f0",
   "metadata": {},
   "outputs": [
    {
     "name": "stdout",
     "output_type": "stream",
     "text": [
      "{'메로나': 1000, '폴라포': 1200, '빵빠레': 1800}\n"
     ]
    }
   ],
   "source": [
    "# 085\n",
    "ice = {\"메로나\": 1000, \"폴라포\": 1200, \"빵빠레\": 1800}\n",
    "print(ice)"
   ]
  },
  {
   "cell_type": "code",
   "execution_count": 22,
   "id": "29ed8165",
   "metadata": {},
   "outputs": [
    {
     "name": "stdout",
     "output_type": "stream",
     "text": [
      "{'메로나': 1000, '폴라포': 1200, '빵빠레': 1800, '죠스바': 1200, '월드콘': 1500}\n"
     ]
    }
   ],
   "source": [
    "# 086\n",
    "ice['죠스바']= 1200\n",
    "ice['월드콘']= 1500\n",
    "print(ice)"
   ]
  },
  {
   "cell_type": "code",
   "execution_count": 23,
   "id": "3a48ad67",
   "metadata": {},
   "outputs": [
    {
     "name": "stdout",
     "output_type": "stream",
     "text": [
      "1000\n"
     ]
    }
   ],
   "source": [
    "# 087\n",
    "ice = {'메로나': 1000,\n",
    "       '폴로포': 1200,\n",
    "       '빵빠레': 1800,\n",
    "       '죠스바': 1200,\n",
    "       '월드콘': 1500}\n",
    "print(ice['메로나'])"
   ]
  },
  {
   "cell_type": "code",
   "execution_count": 24,
   "id": "9240267d",
   "metadata": {},
   "outputs": [
    {
     "name": "stdout",
     "output_type": "stream",
     "text": [
      "1300\n"
     ]
    }
   ],
   "source": [
    "# 088\n",
    "ice = {'메로나': 1000,\n",
    "       '폴로포': 1200,\n",
    "       '빵빠레': 1800,\n",
    "       '죠스바': 1200,\n",
    "       '월드콘': 1500}\n",
    "ice['메로나']=1300\n",
    "print(ice['메로나'])"
   ]
  },
  {
   "cell_type": "code",
   "execution_count": 25,
   "id": "da39cfea",
   "metadata": {},
   "outputs": [
    {
     "name": "stdout",
     "output_type": "stream",
     "text": [
      "{'폴로포': 1200, '빵빠레': 1800, '죠스바': 1200, '월드콘': 1500}\n"
     ]
    }
   ],
   "source": [
    "#089\n",
    "ice = {'메로나': 1000,\n",
    "       '폴로포': 1200,\n",
    "       '빵빠레': 1800,\n",
    "       '죠스바': 1200,\n",
    "       '월드콘': 1500}\n",
    "del(ice['메로나'])\n",
    "print(ice)"
   ]
  },
  {
   "cell_type": "code",
   "execution_count": 26,
   "id": "7cff4714",
   "metadata": {},
   "outputs": [
    {
     "name": "stdout",
     "output_type": "stream",
     "text": [
      "{'메로나': [300, 20], '비비빅': [400, 3], '죠스바': [250, 100]}\n"
     ]
    }
   ],
   "source": [
    "#091 딕셔너리 생성\n",
    "inventory = {'메로나':[300,20], '비비빅':[400,3], '죠스바':[250,100]}\n",
    "print(inventory)"
   ]
  },
  {
   "cell_type": "code",
   "execution_count": 40,
   "id": "0832d9d0",
   "metadata": {},
   "outputs": [
    {
     "name": "stdout",
     "output_type": "stream",
     "text": [
      "300 원\n"
     ]
    }
   ],
   "source": [
    "#092 딕셔너리 인덱싱\n",
    "inventory = {\"메로나\": [300, 20],\n",
    "              \"비비빅\": [400, 3],\n",
    "              \"죠스바\": [250, 100]}\n",
    "print(inventory['메로나'][0],'원')"
   ]
  },
  {
   "cell_type": "code",
   "execution_count": 42,
   "id": "a4d8cbbc",
   "metadata": {},
   "outputs": [
    {
     "name": "stdout",
     "output_type": "stream",
     "text": [
      "20 개\n"
     ]
    }
   ],
   "source": [
    "#093 딕셔너리 인덱싱\n",
    "inventory = {\"메로나\": [300, 20],\n",
    "              \"비비빅\": [400, 3],\n",
    "              \"죠스바\": [250, 100]}\n",
    "print(inventory['메로나'][1],'개')"
   ]
  },
  {
   "cell_type": "code",
   "execution_count": 43,
   "id": "8c57d57b",
   "metadata": {},
   "outputs": [
    {
     "name": "stdout",
     "output_type": "stream",
     "text": [
      "{'메로나': [300, 20], '비비빅': [400, 3], '죠스바': [250, 100], '월드콘': [500, 7]}\n"
     ]
    }
   ],
   "source": [
    "#094 딕셔너리 추가\n",
    "inventory = {\"메로나\": [300, 20],\n",
    "              \"비비빅\": [400, 3],\n",
    "              \"죠스바\": [250, 100]}\n",
    "inventory['월드콘']=[500,7]\n",
    "print(inventory)"
   ]
  },
  {
   "cell_type": "code",
   "execution_count": 52,
   "id": "e9b6b1e4",
   "metadata": {},
   "outputs": [
    {
     "name": "stdout",
     "output_type": "stream",
     "text": [
      "['탱크보이', '폴라포', '빵빠레', '월드콘', '메로나']\n"
     ]
    }
   ],
   "source": [
    "#095 딕셔너리 keys() 메서드\n",
    "icecream = {'탱크보이': 1200, '폴라포': 1200, '빵빠레': 1800, '월드콘': 1500, '메로나': 1000}\n",
    "ice = list(icecream.keys())\n",
    "print(ice)"
   ]
  },
  {
   "cell_type": "code",
   "execution_count": 55,
   "id": "1e0c3c9e",
   "metadata": {},
   "outputs": [
    {
     "name": "stdout",
     "output_type": "stream",
     "text": [
      "[1200, 1200, 1800, 1500, 1000]\n"
     ]
    }
   ],
   "source": [
    "#096 딕셔너리 values() 메서드\n",
    "icecream = {'탱크보이': 1200, '폴라포': 1200, '빵빠레': 1800, '월드콘': 1500, '메로나': 1000}\n",
    "price = list(icecream.values())\n",
    "print(price)"
   ]
  },
  {
   "cell_type": "code",
   "execution_count": 59,
   "id": "ea5050e8",
   "metadata": {},
   "outputs": [
    {
     "name": "stdout",
     "output_type": "stream",
     "text": [
      "6700\n"
     ]
    }
   ],
   "source": [
    "#097 딕셔너리 values() 메서드\n",
    "icecream = {'탱크보이': 1200, '폴라포': 1200, '빵빠레': 1800, '월드콘': 1500, '메로나': 1000}\n",
    "price = list(icecream.values())\n",
    "print(sum(price))\n"
   ]
  },
  {
   "cell_type": "code",
   "execution_count": 62,
   "id": "8b2c5192",
   "metadata": {},
   "outputs": [
    {
     "name": "stdout",
     "output_type": "stream",
     "text": [
      "{'탱크보이': 1200, '폴라포': 1200, '빵빠레': 1800, '월드콘': 1500, '메로나': 1000, '팥빙수': 2700, '아맛나': 1000}\n"
     ]
    }
   ],
   "source": [
    "#098 딕셔너리 update 메서드\n",
    "icecream = {'탱크보이': 1200, '폴라포': 1200, '빵빠레': 1800, '월드콘': 1500, '메로나': 1000}\n",
    "new_product = {'팥빙수':2700, '아맛나':1000}\n",
    "icecream.update(new_product)\n",
    "print(icecream)"
   ]
  },
  {
   "cell_type": "code",
   "execution_count": 68,
   "id": "ce2c2ea0",
   "metadata": {},
   "outputs": [
    {
     "name": "stdout",
     "output_type": "stream",
     "text": [
      "{'apple': 300, 'pear': 250, 'peach': 400}\n"
     ]
    }
   ],
   "source": [
    "#099 zip과 dict\n",
    "keys = (\"apple\", \"pear\", \"peach\")\n",
    "vals = (300, 250, 400)\n",
    "result = dict(zip(keys,vals))\n",
    "print(result)"
   ]
  },
  {
   "cell_type": "code",
   "execution_count": 71,
   "id": "e3005616",
   "metadata": {},
   "outputs": [
    {
     "name": "stdout",
     "output_type": "stream",
     "text": [
      "{'09/05': 10500, '09/06': 10300, '09/07': 10100, '09/08': 10800, '09/09': 11000}\n"
     ]
    }
   ],
   "source": [
    "# 100 zip과 dict\n",
    "date = ['09/05', '09/06', '09/07', '09/08', '09/09']\n",
    "close_price = [10500, 10300, 10100, 10800, 11000]\n",
    "close_table = dict(zip(date,close_price))\n",
    "print(close_table)"
   ]
  },
  {
   "cell_type": "code",
   "execution_count": 83,
   "id": "b27cfa49",
   "metadata": {},
   "outputs": [
    {
     "name": "stdout",
     "output_type": "stream",
     "text": [
      "입력:안녕하세요\n",
      "안녕하세요안녕하세요\n"
     ]
    }
   ],
   "source": [
    "#111\n",
    "user = input(\"입력:\")\n",
    "print(user*2)"
   ]
  },
  {
   "cell_type": "code",
   "execution_count": 82,
   "id": "e03b0300",
   "metadata": {},
   "outputs": [
    {
     "name": "stdout",
     "output_type": "stream",
     "text": [
      "숫자를 입력하세요:30\n",
      "40\n"
     ]
    }
   ],
   "source": [
    "#112\n",
    "number = input('숫자를 입력하세요:')\n",
    "print(10+int(number))"
   ]
  },
  {
   "cell_type": "code",
   "execution_count": 90,
   "id": "d74f423c",
   "metadata": {},
   "outputs": [
    {
     "name": "stdout",
     "output_type": "stream",
     "text": [
      "숫자입력:4\n",
      "짝수\n"
     ]
    }
   ],
   "source": [
    "#113\n",
    "user = input('숫자입력:')\n",
    "if int(user)%2 == 0:\n",
    "    print('짝수')\n",
    "else:\n",
    "    print('홀수')\n"
   ]
  },
  {
   "cell_type": "code",
   "execution_count": 93,
   "id": "b6244d51",
   "metadata": {},
   "outputs": [
    {
     "name": "stdout",
     "output_type": "stream",
     "text": [
      "입력:255\n",
      "255\n"
     ]
    }
   ],
   "source": [
    "#114\n",
    "user=input('입력:')\n",
    "if int(user)+20 > 255: \n",
    "    print(255)\n",
    "else:\n",
    "    print(int(user)+20)"
   ]
  },
  {
   "cell_type": "code",
   "execution_count": 94,
   "id": "3326bf51",
   "metadata": {},
   "outputs": [
    {
     "name": "stdout",
     "output_type": "stream",
     "text": [
      "입력:30\n",
      "50\n"
     ]
    }
   ],
   "source": [
    "#114\n",
    "user=input('입력:')\n",
    "num = 20+int(user)\n",
    "\n",
    "if num > 255: \n",
    "    print(255)\n",
    "else:\n",
    "    print(num)"
   ]
  },
  {
   "cell_type": "code",
   "execution_count": 99,
   "id": "f85245d1",
   "metadata": {},
   "outputs": [
    {
     "name": "stdout",
     "output_type": "stream",
     "text": [
      "입력:255\n",
      "235\n"
     ]
    }
   ],
   "source": [
    "#115\n",
    "user = input(\"입력:\")\n",
    "num =  int(user) - 20\n",
    "if num < 0 :\n",
    "    print(0)\n",
    "elif num > 255:\n",
    "    print(255)\n",
    "else:\n",
    "    print(num)"
   ]
  },
  {
   "cell_type": "code",
   "execution_count": 7,
   "id": "e6f82ac9",
   "metadata": {},
   "outputs": [
    {
     "name": "stdout",
     "output_type": "stream",
     "text": [
      "시간입력:3:00\n",
      "정각\n"
     ]
    }
   ],
   "source": [
    "#116\n",
    "user = input('시간입력:')\n",
    "a = user.split(\":\")\n",
    "if a[1] == '00' :\n",
    "    print('정각')\n",
    "else:\n",
    "    print('정각아님')"
   ]
  },
  {
   "cell_type": "code",
   "execution_count": 9,
   "id": "04d4115a",
   "metadata": {},
   "outputs": [
    {
     "name": "stdout",
     "output_type": "stream",
     "text": [
      "현재시간: 3:00\n",
      "정각 입니다.\n"
     ]
    }
   ],
   "source": [
    "time = input(\"현재시간: \")\n",
    "if time[-2:] == \"00\":\n",
    "    print(\"정각 입니다.\")\n",
    "else:\n",
    "    print(\"정각이 아닙니다.\")"
   ]
  },
  {
   "cell_type": "code",
   "execution_count": 102,
   "id": "93b1a467",
   "metadata": {},
   "outputs": [
    {
     "name": "stdout",
     "output_type": "stream",
     "text": [
      "입력:홍시\n",
      "정답\n"
     ]
    }
   ],
   "source": [
    "#117\n",
    "fruit = [\"사과\", \"포도\", \"홍시\"]\n",
    "user = input('입력:')\n",
    "if user in fruit :\n",
    "    print('정답')\n",
    "else :\n",
    "    print('오답')"
   ]
  },
  {
   "cell_type": "code",
   "execution_count": 103,
   "id": "68feb220",
   "metadata": {},
   "outputs": [
    {
     "name": "stdout",
     "output_type": "stream",
     "text": [
      "종목명 입력:Google\n",
      "경고\n"
     ]
    }
   ],
   "source": [
    "#118\n",
    "warn_investment_list = [\"Microsoft\", \"Google\", \"Naver\", \"Kakao\", \"SAMSUNG\", \"LG\"]\n",
    "user=input('종목명 입력:')\n",
    "if user in warn_investment_list:\n",
    "    print('경고')\n",
    "else:\n",
    "    print('아님')"
   ]
  },
  {
   "cell_type": "code",
   "execution_count": 119,
   "id": "679caf0a",
   "metadata": {},
   "outputs": [
    {
     "name": "stdout",
     "output_type": "stream",
     "text": [
      "입력:봄\n",
      "정답\n"
     ]
    }
   ],
   "source": [
    "#119\n",
    "fruit = {\"봄\" : \"딸기\", \"여름\" : \"토마토\", \"가을\" : \"사과\"}\n",
    "user=input('입력:')\n",
    "if user in fruit:\n",
    "    print('정답')\n",
    "else:\n",
    "    print('오답')"
   ]
  },
  {
   "cell_type": "code",
   "execution_count": 114,
   "id": "a705999e",
   "metadata": {},
   "outputs": [
    {
     "name": "stdout",
     "output_type": "stream",
     "text": [
      "입력:딸기\n",
      "정답\n"
     ]
    }
   ],
   "source": [
    "#120 \n",
    "fruit = {\"봄\" : \"딸기\", \"여름\" : \"토마토\", \"가을\" : \"사과\"}\n",
    "user=input('입력:')\n",
    "if user in fruit.values() :\n",
    "    print('정답')\n",
    "else:\n",
    "    print('오답')"
   ]
  },
  {
   "cell_type": "code",
   "execution_count": 6,
   "id": "314d3711",
   "metadata": {
    "scrolled": true
   },
   "outputs": [
    {
     "name": "stdout",
     "output_type": "stream",
     "text": [
      "입력:a\n",
      "A\n"
     ]
    }
   ],
   "source": [
    "#121\n",
    "user=input('입력:')\n",
    "if user.islower:\n",
    "    print(user.upper())\n",
    "else:\n",
    "    print(user.lower())"
   ]
  },
  {
   "cell_type": "code",
   "execution_count": 11,
   "id": "a35b7ef6",
   "metadata": {},
   "outputs": [
    {
     "name": "stdout",
     "output_type": "stream",
     "text": [
      "입력:80\n",
      "B\n"
     ]
    }
   ],
   "source": [
    "score = input('입력:')\n",
    "score = int(score)\n",
    "\n",
    "if 80 < score <= 100:\n",
    "    print('A')\n",
    "elif 60 < score <= 80:\n",
    "    print('B')\n",
    "elif 40 < score <= 60:\n",
    "    print('C')\n",
    "elif 20 < score <= 40:\n",
    "    print('D')\n",
    "else :\n",
    "    print('E')"
   ]
  },
  {
   "cell_type": "code",
   "execution_count": 52,
   "id": "a13497ed",
   "metadata": {
    "scrolled": true
   },
   "outputs": [
    {
     "ename": "SyntaxError",
     "evalue": "unmatched ')' (3097554396.py, line 6)",
     "output_type": "error",
     "traceback": [
      "\u001b[1;36m  Input \u001b[1;32mIn [52]\u001b[1;36m\u001b[0m\n\u001b[1;33m    print(float(a)) * data[b],'원')\u001b[0m\n\u001b[1;37m                                 ^\u001b[0m\n\u001b[1;31mSyntaxError\u001b[0m\u001b[1;31m:\u001b[0m unmatched ')'\n"
     ]
    }
   ],
   "source": [
    "#123\n",
    "\n",
    "data = {'달러':1167,'엔':1.096,'유로':1268,'위안':171}\n",
    "user = input('입력:')\n",
    "a,b = data(user.split())\n",
    "print(float(a)) * data[b],'원')"
   ]
  },
  {
   "cell_type": "code",
   "execution_count": 57,
   "id": "761437e5",
   "metadata": {},
   "outputs": [
    {
     "name": "stdout",
     "output_type": "stream",
     "text": [
      "number1:10\n",
      "number2:9\n",
      "number3:20\n",
      "20\n"
     ]
    }
   ],
   "source": [
    "#124\n",
    "num1 = input('number1:')\n",
    "num2 = input ('number2:')\n",
    "num3 = input('number3:')\n",
    "num1 = int(num1)\n",
    "num2 = int(num2)\n",
    "num3 = int(num3)\n",
    "\n",
    "if num1 > num2 and num1 > num3 :\n",
    "    print(num1)\n",
    "elif num1 > num2 and num1 < num3:\n",
    "    print(num3)\n",
    "else :\n",
    "    print(num3)"
   ]
  },
  {
   "cell_type": "code",
   "execution_count": 64,
   "id": "85ab08ff",
   "metadata": {
    "scrolled": true
   },
   "outputs": [
    {
     "name": "stdout",
     "output_type": "stream",
     "text": [
      "입력:019-234-3534\n",
      "LGU\n"
     ]
    }
   ],
   "source": [
    "#125\n",
    "a = []\n",
    "user = input('입력:')\n",
    "a = user.split(\"-\")\n",
    "if a[0] == '011':\n",
    "    print('SKT')\n",
    "elif a[0] == '016':\n",
    "    print('KT')\n",
    "elif a[0] == '019' :\n",
    "    print('LGU')\n",
    "else :\n",
    "    print('알수없음')"
   ]
  },
  {
   "cell_type": "code",
   "execution_count": 72,
   "id": "bf1f8ab6",
   "metadata": {
    "scrolled": true
   },
   "outputs": [
    {
     "name": "stdout",
     "output_type": "stream",
     "text": [
      "입력: 109-4894-4290\n",
      "당신은알수없음사용자 입니다\n"
     ]
    }
   ],
   "source": [
    "#125\n",
    "number = input(\"입력: \")\n",
    "num = number.split(\"-\")[0]\n",
    "if num == \"010\" :\n",
    "    com = \"skt\"\n",
    "elif num == \"016\" :\n",
    "    com = \"kt\"\n",
    "elif num == \"019\":\n",
    "    com = \"lgu\"\n",
    "else :\n",
    "    com = \"알수없음\"\n",
    "    print(f\"당신은{com}사용자 입니다\")\n",
    "\n"
   ]
  },
  {
   "cell_type": "code",
   "execution_count": 20,
   "id": "b9f85de8",
   "metadata": {},
   "outputs": [
    {
     "name": "stdout",
     "output_type": "stream",
     "text": [
      "입력:01400\n",
      "도봉구\n"
     ]
    }
   ],
   "source": [
    "#126\n",
    "user = input(\"입력:\")\n",
    "user = user[:3]\n",
    "if user in [\"010\",\"011\",\"012\"]:\n",
    "    print(\"강북구\")\n",
    "elif user in [\"013\",\"014\",\"015\"]:\n",
    "    print(\"도봉구\")\n",
    "else :\n",
    "    print(\"노원구\")"
   ]
  },
  {
   "cell_type": "code",
   "execution_count": 8,
   "id": "e7b72dbe",
   "metadata": {
    "ExecuteTime": {
     "end_time": "2022-09-19T11:38:34.344347Z",
     "start_time": "2022-09-19T11:38:21.029189Z"
    }
   },
   "outputs": [
    {
     "name": "stdout",
     "output_type": "stream",
     "text": [
      "입력:821010-1635210\n",
      "남자\n"
     ]
    }
   ],
   "source": [
    "#127\n",
    "user = input('입력:')\n",
    "a = user.split(\"-\")[1]\n",
    "if a[0] =='1'or a[0]=='3':\n",
    "    print('남자')\n",
    "else: \n",
    "    print('여자')"
   ]
  },
  {
   "cell_type": "code",
   "execution_count": 18,
   "id": "4bdbdd13",
   "metadata": {
    "ExecuteTime": {
     "end_time": "2022-09-19T11:52:57.976292Z",
     "start_time": "2022-09-19T11:52:57.271484Z"
    }
   },
   "outputs": [
    {
     "name": "stdout",
     "output_type": "stream",
     "text": [
      "입력:821010-1635210\n",
      "서울이 아닙니다\n"
     ]
    }
   ],
   "source": [
    "#128\n",
    "user = input(\"입력:\")\n",
    "a = user.split('-')[1]\n",
    "if 0 <= int(a[1:3]) <= 8: \n",
    "    print(\"서울 입니다\")\n",
    "else:\n",
    "    print(\"서울이 아닙니다\")"
   ]
  },
  {
   "cell_type": "code",
   "execution_count": null,
   "id": "16ef45a3",
   "metadata": {
    "ExecuteTime": {
     "end_time": "2022-09-19T13:00:39.230703Z",
     "start_time": "2022-09-19T13:00:33.631704Z"
    }
   },
   "outputs": [],
   "source": [
    "#129"
   ]
  },
  {
   "cell_type": "code",
   "execution_count": null,
   "id": "1c0c2f8b",
   "metadata": {},
   "outputs": [],
   "source": [
    "#130\n"
   ]
  },
  {
   "cell_type": "code",
   "execution_count": 28,
   "id": "e10c88c0",
   "metadata": {
    "ExecuteTime": {
     "end_time": "2022-09-19T12:26:39.566532Z",
     "start_time": "2022-09-19T12:26:39.561574Z"
    }
   },
   "outputs": [
    {
     "name": "stdout",
     "output_type": "stream",
     "text": [
      "10\n",
      "20\n",
      "30\n"
     ]
    }
   ],
   "source": [
    "#136\n",
    "for i in [10,20,30]:\n",
    "    print(i)"
   ]
  },
  {
   "cell_type": "code",
   "execution_count": 30,
   "id": "8e058486",
   "metadata": {
    "ExecuteTime": {
     "end_time": "2022-09-19T12:28:08.518937Z",
     "start_time": "2022-09-19T12:28:08.503315Z"
    }
   },
   "outputs": [
    {
     "name": "stdout",
     "output_type": "stream",
     "text": [
      "10\n",
      "-------\n",
      "20\n",
      "-------\n",
      "30\n",
      "-------\n"
     ]
    }
   ],
   "source": [
    "#137\n",
    "for i in [10,20,30]:\n",
    "    print(i)\n",
    "    print(\"-------\")"
   ]
  },
  {
   "cell_type": "code",
   "execution_count": 35,
   "id": "4baafbb7",
   "metadata": {
    "ExecuteTime": {
     "end_time": "2022-09-19T12:29:06.279878Z",
     "start_time": "2022-09-19T12:29:06.263891Z"
    }
   },
   "outputs": [
    {
     "name": "stdout",
     "output_type": "stream",
     "text": [
      "++++\n",
      "10\n",
      "20\n",
      "30\n"
     ]
    }
   ],
   "source": [
    "print(\"++++\")\n",
    "for i in [10,20,30]:\n",
    "    \n",
    "    print(i)"
   ]
  },
  {
   "cell_type": "code",
   "execution_count": 54,
   "id": "713594d3",
   "metadata": {
    "ExecuteTime": {
     "end_time": "2022-09-19T12:33:25.215756Z",
     "start_time": "2022-09-19T12:33:25.205784Z"
    }
   },
   "outputs": [
    {
     "name": "stdout",
     "output_type": "stream",
     "text": [
      "-------\n",
      "-------\n",
      "-------\n",
      "-------\n"
     ]
    }
   ],
   "source": [
    "#140\n",
    "for i in [1,2,3,4]:\n",
    "    \n",
    "    print(\"-------\")"
   ]
  },
  {
   "cell_type": "code",
   "execution_count": null,
   "id": "b9ffcb2a",
   "metadata": {},
   "outputs": [],
   "source": []
  }
 ],
 "metadata": {
  "kernelspec": {
   "display_name": "Python 3",
   "language": "python",
   "name": "python3"
  },
  "language_info": {
   "codemirror_mode": {
    "name": "ipython",
    "version": 3
   },
   "file_extension": ".py",
   "mimetype": "text/x-python",
   "name": "python",
   "nbconvert_exporter": "python",
   "pygments_lexer": "ipython3",
   "version": "3.8.8"
  },
  "toc": {
   "base_numbering": 1,
   "nav_menu": {},
   "number_sections": true,
   "sideBar": true,
   "skip_h1_title": false,
   "title_cell": "Table of Contents",
   "title_sidebar": "Contents",
   "toc_cell": false,
   "toc_position": {},
   "toc_section_display": true,
   "toc_window_display": false
  },
  "varInspector": {
   "cols": {
    "lenName": 16,
    "lenType": 16,
    "lenVar": 40
   },
   "kernels_config": {
    "python": {
     "delete_cmd_postfix": "",
     "delete_cmd_prefix": "del ",
     "library": "var_list.py",
     "varRefreshCmd": "print(var_dic_list())"
    },
    "r": {
     "delete_cmd_postfix": ") ",
     "delete_cmd_prefix": "rm(",
     "library": "var_list.r",
     "varRefreshCmd": "cat(var_dic_list()) "
    }
   },
   "types_to_exclude": [
    "module",
    "function",
    "builtin_function_or_method",
    "instance",
    "_Feature"
   ],
   "window_display": false
  }
 },
 "nbformat": 4,
 "nbformat_minor": 5
}
