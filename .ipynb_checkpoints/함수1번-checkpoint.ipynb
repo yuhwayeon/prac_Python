{
 "cells": [
  {
   "cell_type": "code",
   "execution_count": null,
   "id": "2ec03b56",
   "metadata": {
    "ExecuteTime": {
     "start_time": "2022-09-22T13:04:20.030Z"
    }
   },
   "outputs": [],
   "source": [
    "def myaverage(a, b):\n",
    "    return(a+b)/2"
   ]
  },
  {
   "cell_type": "code",
   "execution_count": null,
   "id": "4e9da079",
   "metadata": {},
   "outputs": [],
   "source": [
    "myaverage(3,4)"
   ]
  },
  {
   "cell_type": "code",
   "execution_count": null,
   "id": "04695f87",
   "metadata": {},
   "outputs": [],
   "source": [
    "# 문제1\n",
    "def average(list):\n",
    "    x = sum(list)/len(list)\n",
    "    return x"
   ]
  },
  {
   "cell_type": "code",
   "execution_count": null,
   "id": "69bf06d6",
   "metadata": {},
   "outputs": [],
   "source": [
    "average([1,2,3,4,5,6])"
   ]
  },
  {
   "cell_type": "code",
   "execution_count": 4,
   "id": "167e336f",
   "metadata": {},
   "outputs": [],
   "source": [
    "# 문제2\n",
    "\n",
    "def city():\n",
    "    A='''\n",
    "    1. 도시를 추가\n",
    "    2. 추가 완료\n",
    "    3. 종료\n",
    "    '''\n",
    "    x = []\n",
    "    while True:\n",
    "        print(A)\n",
    "        a = input(\"값을 입력하세요:\")\n",
    "        if int(a) == 1 :\n",
    "            b = input(\"도시를 영어로 입력하세요:\")\n",
    "            x.append(b[:3])\n",
    "        elif int(a) == 2 or 3 :\n",
    "            break \n"
   ]
  },
  {
   "cell_type": "code",
   "execution_count": null,
   "id": "ccec9d77",
   "metadata": {},
   "outputs": [],
   "source": []
  },
  {
   "cell_type": "code",
   "execution_count": null,
   "id": "cde3194d",
   "metadata": {},
   "outputs": [
    {
     "ename": "ValueError",
     "evalue": "could not convert string to float: ''",
     "output_type": "error",
     "traceback": [
      "\u001b[1;31m---------------------------------------------------------------------------\u001b[0m",
      "\u001b[1;31mValueError\u001b[0m                                Traceback (most recent call last)",
      "\u001b[1;32m<ipython-input-70-619358d9c614>\u001b[0m in \u001b[0;36m<module>\u001b[1;34m\u001b[0m\n\u001b[0;32m     15\u001b[0m     \u001b[0mheight\u001b[0m \u001b[1;33m=\u001b[0m \u001b[0minput\u001b[0m\u001b[1;33m(\u001b[0m\u001b[1;34m\"Height (cm): \"\u001b[0m\u001b[1;33m)\u001b[0m\u001b[1;33m\u001b[0m\u001b[1;33m\u001b[0m\u001b[0m\n\u001b[0;32m     16\u001b[0m     \u001b[0mweight\u001b[0m \u001b[1;33m=\u001b[0m \u001b[0minput\u001b[0m\u001b[1;33m(\u001b[0m\u001b[1;34m\"Weight (kg): \"\u001b[0m\u001b[1;33m)\u001b[0m\u001b[1;33m\u001b[0m\u001b[1;33m\u001b[0m\u001b[0m\n\u001b[1;32m---> 17\u001b[1;33m     \u001b[0mcal_bmi\u001b[0m\u001b[1;33m(\u001b[0m\u001b[0mfloat\u001b[0m\u001b[1;33m(\u001b[0m\u001b[0mheight\u001b[0m\u001b[1;33m)\u001b[0m\u001b[1;33m,\u001b[0m \u001b[0mfloat\u001b[0m\u001b[1;33m(\u001b[0m\u001b[0mweight\u001b[0m\u001b[1;33m)\u001b[0m\u001b[1;33m)\u001b[0m\u001b[1;33m\u001b[0m\u001b[1;33m\u001b[0m\u001b[0m\n\u001b[0m",
      "\u001b[1;31mValueError\u001b[0m: could not convert string to float: ''"
     ]
    }
   ],
   "source": [
    "def cal_bmi (weight,height):\n",
    "    height = height * 0.01\n",
    "    bmi  = weight/(height*height)\n",
    "    if bmi < 18.5:\n",
    "        print(\"마른체형\")\n",
    "    elif 18.5 <= bmi < 25.0:\n",
    "        print(\"표준\")\n",
    "    elif 25.0 <= bmi < 30.0:\n",
    "            print(\"비만\")\n",
    "    else:\n",
    "        print(\"고도비만\")\n",
    "\n",
    "\n",
    "while 1:\n",
    "    height = input(\"Height (cm): \")\n",
    "    weight = input(\"Weight (kg): \")\n",
    "    cal_bmi(float(height), float(weight))"
   ]
  },
  {
   "cell_type": "code",
   "execution_count": null,
   "id": "9732b5c5",
   "metadata": {},
   "outputs": [],
   "source": []
  }
 ],
 "metadata": {
  "kernelspec": {
   "display_name": "Python 3.8.8 ('base': conda)",
   "language": "python",
   "name": "python3"
  },
  "language_info": {
   "codemirror_mode": {
    "name": "ipython",
    "version": 3
   },
   "file_extension": ".py",
   "mimetype": "text/x-python",
   "name": "python",
   "nbconvert_exporter": "python",
   "pygments_lexer": "ipython3",
   "version": "3.8.8"
  },
  "toc": {
   "base_numbering": 1,
   "nav_menu": {},
   "number_sections": true,
   "sideBar": true,
   "skip_h1_title": false,
   "title_cell": "Table of Contents",
   "title_sidebar": "Contents",
   "toc_cell": false,
   "toc_position": {},
   "toc_section_display": true,
   "toc_window_display": false
  },
  "varInspector": {
   "cols": {
    "lenName": 16,
    "lenType": 16,
    "lenVar": 40
   },
   "kernels_config": {
    "python": {
     "delete_cmd_postfix": "",
     "delete_cmd_prefix": "del ",
     "library": "var_list.py",
     "varRefreshCmd": "print(var_dic_list())"
    },
    "r": {
     "delete_cmd_postfix": ") ",
     "delete_cmd_prefix": "rm(",
     "library": "var_list.r",
     "varRefreshCmd": "cat(var_dic_list()) "
    }
   },
   "types_to_exclude": [
    "module",
    "function",
    "builtin_function_or_method",
    "instance",
    "_Feature"
   ],
   "window_display": false
  },
  "vscode": {
   "interpreter": {
    "hash": "a077222d77dfe082b8f1dd562ad70e458ac2ab76993a0b248ab0476e32e9e8dd"
   }
  }
 },
 "nbformat": 4,
 "nbformat_minor": 5
}
