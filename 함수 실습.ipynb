{
 "cells": [
  {
   "cell_type": "code",
   "execution_count": 10,
   "id": "4f755852",
   "metadata": {
    "ExecuteTime": {
     "end_time": "2022-09-22T06:40:55.041765Z",
     "start_time": "2022-09-22T06:40:55.030795Z"
    }
   },
   "outputs": [],
   "source": [
    "def number(a):\n",
    "    print(a)\n",
    "    "
   ]
  },
  {
   "cell_type": "code",
   "execution_count": 11,
   "id": "953567af",
   "metadata": {
    "ExecuteTime": {
     "end_time": "2022-09-22T06:40:57.546555Z",
     "start_time": "2022-09-22T06:40:55.543016Z"
    }
   },
   "outputs": [
    {
     "name": "stdout",
     "output_type": "stream",
     "text": [
      "\n"
     ]
    }
   ],
   "source": [
    "x = input()"
   ]
  },
  {
   "cell_type": "code",
   "execution_count": 12,
   "id": "fde90be7",
   "metadata": {
    "ExecuteTime": {
     "end_time": "2022-09-22T06:40:58.278443Z",
     "start_time": "2022-09-22T06:40:58.261396Z"
    }
   },
   "outputs": [
    {
     "name": "stdout",
     "output_type": "stream",
     "text": [
      "<class 'str'> \n"
     ]
    }
   ],
   "source": [
    "print(type(x), x)"
   ]
  },
  {
   "cell_type": "code",
   "execution_count": 13,
   "id": "d543bce2",
   "metadata": {
    "ExecuteTime": {
     "end_time": "2022-09-22T06:40:58.764823Z",
     "start_time": "2022-09-22T06:40:58.584008Z"
    }
   },
   "outputs": [
    {
     "name": "stdout",
     "output_type": "stream",
     "text": [
      "\n"
     ]
    }
   ],
   "source": [
    "x = input().split()"
   ]
  },
  {
   "cell_type": "code",
   "execution_count": 14,
   "id": "ca642c2c",
   "metadata": {
    "ExecuteTime": {
     "end_time": "2022-09-22T06:40:59.497999Z",
     "start_time": "2022-09-22T06:40:59.493978Z"
    }
   },
   "outputs": [
    {
     "name": "stdout",
     "output_type": "stream",
     "text": [
      "[]\n"
     ]
    }
   ],
   "source": [
    "print(x)"
   ]
  },
  {
   "cell_type": "code",
   "execution_count": 18,
   "id": "592e437c",
   "metadata": {
    "ExecuteTime": {
     "end_time": "2022-09-22T06:42:32.718110Z",
     "start_time": "2022-09-22T06:42:16.854609Z"
    }
   },
   "outputs": [
    {
     "name": "stdout",
     "output_type": "stream",
     "text": [
      "1 3 5 7 9 10 11\n"
     ]
    }
   ],
   "source": [
    "x = list(map(int, input().split()))"
   ]
  },
  {
   "cell_type": "code",
   "execution_count": 19,
   "id": "98c51a6a",
   "metadata": {
    "ExecuteTime": {
     "end_time": "2022-09-22T06:42:54.556122Z",
     "start_time": "2022-09-22T06:42:54.550109Z"
    }
   },
   "outputs": [
    {
     "name": "stdout",
     "output_type": "stream",
     "text": [
      "[1, 3, 5, 7, 9, 10, 11]\n"
     ]
    }
   ],
   "source": [
    "print(x)"
   ]
  },
  {
   "cell_type": "code",
   "execution_count": 23,
   "id": "0630f5e1",
   "metadata": {
    "ExecuteTime": {
     "end_time": "2022-09-22T06:49:55.327011Z",
     "start_time": "2022-09-22T06:49:55.318036Z"
    }
   },
   "outputs": [],
   "source": [
    "def average(n):\n",
    "    print(sum(n))"
   ]
  },
  {
   "cell_type": "code",
   "execution_count": 24,
   "id": "ac2af09c",
   "metadata": {
    "ExecuteTime": {
     "end_time": "2022-09-22T06:50:09.899351Z",
     "start_time": "2022-09-22T06:50:09.888381Z"
    }
   },
   "outputs": [
    {
     "name": "stdout",
     "output_type": "stream",
     "text": [
      "46\n"
     ]
    }
   ],
   "source": [
    "average(x)"
   ]
  },
  {
   "cell_type": "code",
   "execution_count": null,
   "id": "e0d2cf00",
   "metadata": {
    "ExecuteTime": {
     "end_time": "2022-09-22T06:40:51.106986Z",
     "start_time": "2022-09-22T06:38:31.204Z"
    }
   },
   "outputs": [],
   "source": [
    "def average(n):\n",
    "    "
   ]
  },
  {
   "cell_type": "code",
   "execution_count": null,
   "id": "7851a2bb",
   "metadata": {
    "ExecuteTime": {
     "end_time": "2022-09-22T06:40:51.108979Z",
     "start_time": "2022-09-22T06:38:32.694Z"
    }
   },
   "outputs": [],
   "source": []
  },
  {
   "cell_type": "code",
   "execution_count": null,
   "id": "7872db03",
   "metadata": {},
   "outputs": [],
   "source": []
  },
  {
   "cell_type": "code",
   "execution_count": null,
   "id": "5c3a1060",
   "metadata": {},
   "outputs": [],
   "source": []
  },
  {
   "cell_type": "code",
   "execution_count": null,
   "id": "962e7855",
   "metadata": {},
   "outputs": [],
   "source": []
  }
 ],
 "metadata": {
  "kernelspec": {
   "display_name": "Python 3",
   "language": "python",
   "name": "python3"
  },
  "language_info": {
   "codemirror_mode": {
    "name": "ipython",
    "version": 3
   },
   "file_extension": ".py",
   "mimetype": "text/x-python",
   "name": "python",
   "nbconvert_exporter": "python",
   "pygments_lexer": "ipython3",
   "version": "3.8.8"
  },
  "toc": {
   "base_numbering": 1,
   "nav_menu": {},
   "number_sections": true,
   "sideBar": true,
   "skip_h1_title": false,
   "title_cell": "Table of Contents",
   "title_sidebar": "Contents",
   "toc_cell": false,
   "toc_position": {},
   "toc_section_display": true,
   "toc_window_display": false
  },
  "varInspector": {
   "cols": {
    "lenName": 16,
    "lenType": 16,
    "lenVar": 40
   },
   "kernels_config": {
    "python": {
     "delete_cmd_postfix": "",
     "delete_cmd_prefix": "del ",
     "library": "var_list.py",
     "varRefreshCmd": "print(var_dic_list())"
    },
    "r": {
     "delete_cmd_postfix": ") ",
     "delete_cmd_prefix": "rm(",
     "library": "var_list.r",
     "varRefreshCmd": "cat(var_dic_list()) "
    }
   },
   "types_to_exclude": [
    "module",
    "function",
    "builtin_function_or_method",
    "instance",
    "_Feature"
   ],
   "window_display": false
  }
 },
 "nbformat": 4,
 "nbformat_minor": 5
}
