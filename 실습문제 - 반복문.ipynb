{
 "cells": [
  {
   "cell_type": "code",
   "execution_count": 3,
   "id": "332fc311",
   "metadata": {
    "ExecuteTime": {
     "end_time": "2022-09-14T10:57:17.503882Z",
     "start_time": "2022-09-14T10:57:17.495933Z"
    }
   },
   "outputs": [
    {
     "name": "stdout",
     "output_type": "stream",
     "text": [
      "비겼다\n"
     ]
    }
   ],
   "source": [
    "# 문제1\n",
    "srp = '가위'\n",
    "if srp == '가위':\n",
    "    print('비겼다')\n",
    "elif srp == '바위':\n",
    "    print('졌다')\n",
    "else :\n",
    "    print('이겼다')"
   ]
  },
  {
   "cell_type": "code",
   "execution_count": 2,
   "id": "4605f087",
   "metadata": {
    "ExecuteTime": {
     "end_time": "2022-09-20T07:26:18.390202Z",
     "start_time": "2022-09-20T07:26:16.691941Z"
    }
   },
   "outputs": [
    {
     "name": "stdout",
     "output_type": "stream",
     "text": [
      "태어난 년도를 입력하세요1993\n",
      "30대 입니다.\n"
     ]
    }
   ],
   "source": [
    "# 문제2\n",
    "\n",
    "y = int(input(\"태어난 년도를 입력하세요\"))\n",
    "age = 2023 - y\n",
    "if age in range(20, 30):\n",
    "    print(\"20대 입니다.\")\n",
    "elif age in range(30, 40):\n",
    "    print(\"30대 입니다.\")"
   ]
  },
  {
   "cell_type": "code",
   "execution_count": 4,
   "id": "c18f97e7",
   "metadata": {
    "ExecuteTime": {
     "end_time": "2022-09-20T07:28:06.167361Z",
     "start_time": "2022-09-20T07:28:04.659313Z"
    }
   },
   "outputs": [
    {
     "name": "stdout",
     "output_type": "stream",
     "text": [
      "태어난 년도를 입력하세요1993\n",
      "30대 입니다.\n"
     ]
    }
   ],
   "source": [
    "y = int(input(\"태어난 년도를 입력하세요\"))\n",
    "age = 2022 - y + 1\n",
    "print(f\"{age // 10}0대 입니다.\")"
   ]
  },
  {
   "cell_type": "code",
   "execution_count": 21,
   "id": "2f4d64a8",
   "metadata": {
    "ExecuteTime": {
     "end_time": "2022-09-14T12:11:59.467830Z",
     "start_time": "2022-09-14T12:11:59.448745Z"
    }
   },
   "outputs": [
    {
     "name": "stdout",
     "output_type": "stream",
     "text": [
      "10 x 1 = 10\n",
      "10 x 2 = 20\n",
      "10 x 3 = 30\n",
      "10 x 4 = 40\n",
      "10 x 5 = 50\n",
      "10 x 6 = 60\n",
      "10 x 7 = 70\n",
      "10 x 8 = 80\n",
      "10 x 9 = 90\n"
     ]
    }
   ],
   "source": [
    "for i in range(1,10):\n",
    "    print(f\"10 x {i} = {10*i}\")"
   ]
  },
  {
   "cell_type": "code",
   "execution_count": 16,
   "id": "7bd0f8a7",
   "metadata": {
    "ExecuteTime": {
     "end_time": "2022-09-15T04:52:05.867846Z",
     "start_time": "2022-09-15T04:52:05.859894Z"
    },
    "scrolled": true
   },
   "outputs": [
    {
     "name": "stdout",
     "output_type": "stream",
     "text": [
      "2*1=2\t3*1=3\t4*1=4\t5*1=5\t6*1=6\t7*1=7\t8*1=8\t9*1=9\t\n",
      "2*2=4\t3*2=6\t4*2=8\t5*2=10\t6*2=12\t7*2=14\t8*2=16\t9*2=18\t\n",
      "2*3=6\t3*3=9\t4*3=12\t5*3=15\t6*3=18\t7*3=21\t8*3=24\t9*3=27\t\n",
      "2*4=8\t3*4=12\t4*4=16\t5*4=20\t6*4=24\t7*4=28\t8*4=32\t9*4=36\t\n",
      "2*5=10\t3*5=15\t4*5=20\t5*5=25\t6*5=30\t7*5=35\t8*5=40\t9*5=45\t\n",
      "2*6=12\t3*6=18\t4*6=24\t5*6=30\t6*6=36\t7*6=42\t8*6=48\t9*6=54\t\n",
      "2*7=14\t3*7=21\t4*7=28\t5*7=35\t6*7=42\t7*7=49\t8*7=56\t9*7=63\t\n",
      "2*8=16\t3*8=24\t4*8=32\t5*8=40\t6*8=48\t7*8=56\t8*8=64\t9*8=72\t\n",
      "2*9=18\t3*9=27\t4*9=36\t5*9=45\t6*9=54\t7*9=63\t8*9=72\t9*9=81\t\n"
     ]
    }
   ],
   "source": [
    "for i in range(1,10):\n",
    "    for j in range (2,10):\n",
    "        print(f\"{j}*{i}={j*i}\",end = \"\\t\")\n",
    "    print()"
   ]
  },
  {
   "cell_type": "code",
   "execution_count": 22,
   "id": "fc6dc1b8",
   "metadata": {
    "ExecuteTime": {
     "end_time": "2022-09-15T04:56:17.927915Z",
     "start_time": "2022-09-15T04:56:17.923926Z"
    }
   },
   "outputs": [
    {
     "name": "stdout",
     "output_type": "stream",
     "text": [
      "★ ★ ★ ★ ★ "
     ]
    }
   ],
   "source": [
    "for i in range(5):\n",
    "    print(f\"{'★'}\",end=\" \")"
   ]
  },
  {
   "cell_type": "code",
   "execution_count": 2,
   "id": "4d5e4199",
   "metadata": {
    "ExecuteTime": {
     "end_time": "2022-09-18T23:57:01.164628Z",
     "start_time": "2022-09-18T23:57:01.160668Z"
    }
   },
   "outputs": [
    {
     "name": "stdout",
     "output_type": "stream",
     "text": [
      "★★★★★\n",
      "★★★★★\n",
      "★★★★★\n",
      "★★★★★\n"
     ]
    }
   ],
   "source": [
    "for i in range(4):\n",
    "    print('★'*5)"
   ]
  },
  {
   "cell_type": "code",
   "execution_count": 72,
   "id": "219db1d9",
   "metadata": {
    "ExecuteTime": {
     "end_time": "2022-09-19T04:26:45.462916Z",
     "start_time": "2022-09-19T04:26:45.449951Z"
    }
   },
   "outputs": [
    {
     "name": "stdout",
     "output_type": "stream",
     "text": [
      "★★★★★ \n",
      "★★★★★ \n",
      "★★★★★ \n",
      "★★★★★ \n"
     ]
    }
   ],
   "source": [
    "for i in range(4):\n",
    "    for j in range(5):\n",
    "        print('★',end='')\n",
    "    print(\" \")"
   ]
  },
  {
   "cell_type": "code",
   "execution_count": 57,
   "id": "c331679f",
   "metadata": {
    "ExecuteTime": {
     "end_time": "2022-09-15T05:24:18.426524Z",
     "start_time": "2022-09-15T05:24:18.418566Z"
    }
   },
   "outputs": [
    {
     "name": "stdout",
     "output_type": "stream",
     "text": [
      "★\n",
      "★★\n",
      "★★★\n",
      "★★★★\n",
      "★★★★★\n"
     ]
    }
   ],
   "source": [
    "for i in range(5):\n",
    "     print('★' * (i + 1))"
   ]
  },
  {
   "cell_type": "code",
   "execution_count": 8,
   "id": "e54d0b95",
   "metadata": {
    "ExecuteTime": {
     "end_time": "2022-09-19T00:17:07.268574Z",
     "start_time": "2022-09-19T00:17:07.255639Z"
    }
   },
   "outputs": [
    {
     "name": "stdout",
     "output_type": "stream",
     "text": [
      "★★★★★\n",
      "★★★★\n",
      "★★★\n",
      "★★\n",
      "★\n"
     ]
    }
   ],
   "source": [
    "for i in range(5,0,-1):\n",
    "    print(i*'★')\n",
    "  "
   ]
  },
  {
   "cell_type": "code",
   "execution_count": 35,
   "id": "8bb71a79",
   "metadata": {
    "ExecuteTime": {
     "end_time": "2022-09-16T01:23:17.769821Z",
     "start_time": "2022-09-16T01:23:17.757853Z"
    },
    "scrolled": true
   },
   "outputs": [
    {
     "name": "stdout",
     "output_type": "stream",
     "text": [
      "★ ★ ★ ★ ★ \n",
      "☆ ★ ★ ★ ★ \n",
      "☆ ☆ ★ ★ ★ \n",
      "☆ ☆ ☆ ★ ★ \n",
      "☆ ☆ ☆ ☆ ★ \n",
      "☆ ☆ ☆ ☆ ☆ \n"
     ]
    }
   ],
   "source": [
    "for i in range(6):\n",
    "    for j in range(i):\n",
    "        print(\"☆\", end=\" \")\n",
    "    for k in range(i, 5):\n",
    "        print(\"★\", end = \" \")\n",
    "    print()"
   ]
  },
  {
   "cell_type": "code",
   "execution_count": 62,
   "id": "4be0a836",
   "metadata": {
    "ExecuteTime": {
     "end_time": "2022-09-19T02:03:03.491125Z",
     "start_time": "2022-09-19T02:03:03.473170Z"
    }
   },
   "outputs": [
    {
     "name": "stdout",
     "output_type": "stream",
     "text": [
      "★★★★★\n",
      "★★★★★\n",
      "★★★★★\n",
      "★★★★★\n"
     ]
    }
   ],
   "source": [
    "for i in range(5):\n",
    "    print('★',end='')\n",
    "print()\n",
    "for i in range(5):\n",
    "    print('★',end='')\n",
    "print()\n",
    "for i in range(5):\n",
    "    print('★',end='')\n",
    "print()\n",
    "for i in range(5):\n",
    "    print('★',end='')\n",
    "print()"
   ]
  },
  {
   "cell_type": "code",
   "execution_count": null,
   "id": "ca602809",
   "metadata": {},
   "outputs": [],
   "source": []
  }
 ],
 "metadata": {
  "kernelspec": {
   "display_name": "Python 3",
   "language": "python",
   "name": "python3"
  },
  "language_info": {
   "codemirror_mode": {
    "name": "ipython",
    "version": 3
   },
   "file_extension": ".py",
   "mimetype": "text/x-python",
   "name": "python",
   "nbconvert_exporter": "python",
   "pygments_lexer": "ipython3",
   "version": "3.8.8"
  },
  "toc": {
   "base_numbering": 1,
   "nav_menu": {},
   "number_sections": true,
   "sideBar": true,
   "skip_h1_title": false,
   "title_cell": "Table of Contents",
   "title_sidebar": "Contents",
   "toc_cell": false,
   "toc_position": {},
   "toc_section_display": true,
   "toc_window_display": false
  },
  "varInspector": {
   "cols": {
    "lenName": 16,
    "lenType": 16,
    "lenVar": 40
   },
   "kernels_config": {
    "python": {
     "delete_cmd_postfix": "",
     "delete_cmd_prefix": "del ",
     "library": "var_list.py",
     "varRefreshCmd": "print(var_dic_list())"
    },
    "r": {
     "delete_cmd_postfix": ") ",
     "delete_cmd_prefix": "rm(",
     "library": "var_list.r",
     "varRefreshCmd": "cat(var_dic_list()) "
    }
   },
   "types_to_exclude": [
    "module",
    "function",
    "builtin_function_or_method",
    "instance",
    "_Feature"
   ],
   "window_display": false
  }
 },
 "nbformat": 4,
 "nbformat_minor": 5
}
