{
 "cells": [
  {
   "cell_type": "code",
   "execution_count": 41,
   "id": "0e929938",
   "metadata": {
    "ExecuteTime": {
     "end_time": "2022-09-19T13:25:52.447798Z",
     "start_time": "2022-09-19T13:25:52.443809Z"
    }
   },
   "outputs": [],
   "source": [
    "#201\n",
    "def print_coin():\n",
    "    print(\"비트코인\")"
   ]
  },
  {
   "cell_type": "code",
   "execution_count": 42,
   "id": "26b66b91",
   "metadata": {
    "ExecuteTime": {
     "end_time": "2022-09-19T13:26:03.303713Z",
     "start_time": "2022-09-19T13:26:03.291847Z"
    }
   },
   "outputs": [
    {
     "name": "stdout",
     "output_type": "stream",
     "text": [
      "비트코인\n"
     ]
    }
   ],
   "source": [
    "#202\n",
    "print_coin()"
   ]
  },
  {
   "cell_type": "code",
   "execution_count": 43,
   "id": "b0d477db",
   "metadata": {
    "ExecuteTime": {
     "end_time": "2022-09-19T13:27:06.614648Z",
     "start_time": "2022-09-19T13:27:06.603705Z"
    }
   },
   "outputs": [
    {
     "name": "stdout",
     "output_type": "stream",
     "text": [
      "비트코인\n",
      "비트코인\n",
      "비트코인\n",
      "비트코인\n",
      "비트코인\n",
      "비트코인\n",
      "비트코인\n",
      "비트코인\n",
      "비트코인\n",
      "비트코인\n",
      "비트코인\n",
      "비트코인\n",
      "비트코인\n",
      "비트코인\n",
      "비트코인\n",
      "비트코인\n",
      "비트코인\n",
      "비트코인\n",
      "비트코인\n",
      "비트코인\n",
      "비트코인\n",
      "비트코인\n",
      "비트코인\n",
      "비트코인\n",
      "비트코인\n",
      "비트코인\n",
      "비트코인\n",
      "비트코인\n",
      "비트코인\n",
      "비트코인\n",
      "비트코인\n",
      "비트코인\n",
      "비트코인\n",
      "비트코인\n",
      "비트코인\n",
      "비트코인\n",
      "비트코인\n",
      "비트코인\n",
      "비트코인\n",
      "비트코인\n",
      "비트코인\n",
      "비트코인\n",
      "비트코인\n",
      "비트코인\n",
      "비트코인\n",
      "비트코인\n",
      "비트코인\n",
      "비트코인\n",
      "비트코인\n",
      "비트코인\n",
      "비트코인\n",
      "비트코인\n",
      "비트코인\n",
      "비트코인\n",
      "비트코인\n",
      "비트코인\n",
      "비트코인\n",
      "비트코인\n",
      "비트코인\n",
      "비트코인\n",
      "비트코인\n",
      "비트코인\n",
      "비트코인\n",
      "비트코인\n",
      "비트코인\n",
      "비트코인\n",
      "비트코인\n",
      "비트코인\n",
      "비트코인\n",
      "비트코인\n",
      "비트코인\n",
      "비트코인\n",
      "비트코인\n",
      "비트코인\n",
      "비트코인\n",
      "비트코인\n",
      "비트코인\n",
      "비트코인\n",
      "비트코인\n",
      "비트코인\n",
      "비트코인\n",
      "비트코인\n",
      "비트코인\n",
      "비트코인\n",
      "비트코인\n",
      "비트코인\n",
      "비트코인\n",
      "비트코인\n",
      "비트코인\n",
      "비트코인\n",
      "비트코인\n",
      "비트코인\n",
      "비트코인\n",
      "비트코인\n",
      "비트코인\n",
      "비트코인\n",
      "비트코인\n",
      "비트코인\n",
      "비트코인\n",
      "비트코인\n"
     ]
    }
   ],
   "source": [
    "#203\n",
    "for i in range(100):\n",
    "    print_coin()"
   ]
  },
  {
   "cell_type": "code",
   "execution_count": 54,
   "id": "24b9fd7b",
   "metadata": {
    "ExecuteTime": {
     "end_time": "2022-09-19T13:31:27.467033Z",
     "start_time": "2022-09-19T13:31:27.450249Z"
    }
   },
   "outputs": [],
   "source": [
    "#204\n",
    "def print_coins():\n",
    "    for i in range(100):\n",
    "        print(\"비트코인\")"
   ]
  },
  {
   "cell_type": "code",
   "execution_count": 60,
   "id": "8c3c1bcb",
   "metadata": {
    "ExecuteTime": {
     "end_time": "2022-09-19T13:36:58.251164Z",
     "start_time": "2022-09-19T13:36:58.233230Z"
    }
   },
   "outputs": [
    {
     "ename": "IndentationError",
     "evalue": "unexpected indent (<ipython-input-60-3e422ec38948>, line 8)",
     "output_type": "error",
     "traceback": [
      "\u001b[1;36m  File \u001b[1;32m\"<ipython-input-60-3e422ec38948>\"\u001b[1;36m, line \u001b[1;32m8\u001b[0m\n\u001b[1;33m    message2()\u001b[0m\n\u001b[1;37m    ^\u001b[0m\n\u001b[1;31mIndentationError\u001b[0m\u001b[1;31m:\u001b[0m unexpected indent\n"
     ]
    }
   ],
   "source": [
    "bcbcbca"
   ]
  },
  {
   "cell_type": "code",
   "execution_count": 7,
   "id": "e27c5759",
   "metadata": {
    "ExecuteTime": {
     "end_time": "2022-09-20T09:57:33.950047Z",
     "start_time": "2022-09-20T09:57:33.944050Z"
    }
   },
   "outputs": [],
   "source": [
    "#215\n",
    "def print_with_smile(string):\n",
    "    print(string +\":D\")"
   ]
  },
  {
   "cell_type": "code",
   "execution_count": 8,
   "id": "12a4c269",
   "metadata": {
    "ExecuteTime": {
     "end_time": "2022-09-20T09:57:35.119295Z",
     "start_time": "2022-09-20T09:57:35.112346Z"
    }
   },
   "outputs": [
    {
     "name": "stdout",
     "output_type": "stream",
     "text": [
      "안녕하세요:D\n"
     ]
    }
   ],
   "source": [
    "#216\n",
    "print_with_smile('안녕하세요')"
   ]
  },
  {
   "cell_type": "code",
   "execution_count": 35,
   "id": "51f1b4ac",
   "metadata": {
    "ExecuteTime": {
     "end_time": "2022-09-20T10:30:49.598238Z",
     "start_time": "2022-09-20T10:30:49.581821Z"
    }
   },
   "outputs": [
    {
     "name": "stdout",
     "output_type": "stream",
     "text": [
      "390.0\n"
     ]
    }
   ],
   "source": [
    "#217\n",
    "def print_upper_price(n):\n",
    "    print(n*1.3)\n",
    "print_upper_price(300)"
   ]
  },
  {
   "cell_type": "code",
   "execution_count": 15,
   "id": "e5749303",
   "metadata": {
    "ExecuteTime": {
     "end_time": "2022-09-20T10:05:53.676344Z",
     "start_time": "2022-09-20T10:05:53.664406Z"
    }
   },
   "outputs": [
    {
     "name": "stdout",
     "output_type": "stream",
     "text": [
      "5\n"
     ]
    }
   ],
   "source": [
    "#218\n",
    "def print_sum(a,b):\n",
    "    print(a+b)\n",
    "print_sum(2,3)"
   ]
  },
  {
   "cell_type": "code",
   "execution_count": 24,
   "id": "127ccd08",
   "metadata": {
    "ExecuteTime": {
     "end_time": "2022-09-20T10:14:50.874555Z",
     "start_time": "2022-09-20T10:14:50.862588Z"
    }
   },
   "outputs": [
    {
     "name": "stdout",
     "output_type": "stream",
     "text": [
      "3 + 4 = 7\n",
      "3 - 4 = -1\n",
      "3 * 4 = 12\n",
      "3 / 4 = 0.75\n"
     ]
    }
   ],
   "source": [
    "#219\n",
    "def print_arithmetic_operation(a,b):\n",
    "    print(a, '+' ,b, '=', a+b)\n",
    "    print(a, '-' ,b, '=', a-b)\n",
    "    print(a, '*' ,b, '=' ,a*4)\n",
    "    print(a, '/' ,b, '=' ,a/4)\n",
    "print_arithmetic_operation(3,4)"
   ]
  },
  {
   "cell_type": "code",
   "execution_count": 33,
   "id": "ebd4d18e",
   "metadata": {
    "ExecuteTime": {
     "end_time": "2022-09-20T10:27:14.748519Z",
     "start_time": "2022-09-20T10:27:14.742535Z"
    }
   },
   "outputs": [],
   "source": [
    "#220\n",
    "def print_max(a,b,c):\n",
    "    if a > b and a > c:\n",
    "        print(a)\n",
    "    elif b > a and b > c:\n",
    "        print(b)\n",
    "    elif c > a and c > b:\n",
    "        print(c)"
   ]
  },
  {
   "cell_type": "code",
   "execution_count": 34,
   "id": "743984ba",
   "metadata": {
    "ExecuteTime": {
     "end_time": "2022-09-20T10:27:15.138002Z",
     "start_time": "2022-09-20T10:27:15.126034Z"
    }
   },
   "outputs": [
    {
     "name": "stdout",
     "output_type": "stream",
     "text": [
      "3\n"
     ]
    }
   ],
   "source": [
    "print_max(1,2,3)"
   ]
  },
  {
   "cell_type": "code",
   "execution_count": 44,
   "id": "3dfb71b3",
   "metadata": {
    "ExecuteTime": {
     "end_time": "2022-09-20T10:34:13.678354Z",
     "start_time": "2022-09-20T10:34:13.668715Z"
    }
   },
   "outputs": [
    {
     "name": "stdout",
     "output_type": "stream",
     "text": [
      "nohtyp\n"
     ]
    }
   ],
   "source": [
    "#221\n",
    "def print_reverse(string):\n",
    "    print(string[::-1])\n",
    "print_reverse('python')"
   ]
  },
  {
   "cell_type": "code",
   "execution_count": 45,
   "id": "97f1d8ba",
   "metadata": {
    "ExecuteTime": {
     "end_time": "2022-09-20T10:47:23.077674Z",
     "start_time": "2022-09-20T10:47:23.064736Z"
    }
   },
   "outputs": [
    {
     "name": "stdout",
     "output_type": "stream",
     "text": [
      "2.0\n"
     ]
    }
   ],
   "source": [
    "#222\n",
    "#  \n",
    "def print_score(a): \n",
    "    print(sum(a)/len(a))\n",
    "print_score ([1, 2, 3])"
   ]
  },
  {
   "cell_type": "code",
   "execution_count": 74,
   "id": "a2cd48e4",
   "metadata": {
    "ExecuteTime": {
     "end_time": "2022-09-20T11:00:00.147585Z",
     "start_time": "2022-09-20T11:00:00.131964Z"
    }
   },
   "outputs": [],
   "source": [
    "#223 \n",
    "def print_even (a):\n",
    "    for i in a :\n",
    "        if i% 2 ==0 :\n",
    "            print(i)"
   ]
  },
  {
   "cell_type": "code",
   "execution_count": 73,
   "id": "31cd5ecc",
   "metadata": {
    "ExecuteTime": {
     "end_time": "2022-09-20T10:59:58.433773Z",
     "start_time": "2022-09-20T10:59:58.418966Z"
    }
   },
   "outputs": [
    {
     "name": "stdout",
     "output_type": "stream",
     "text": [
      "2\n",
      "10\n",
      "12\n"
     ]
    }
   ],
   "source": [
    "print_even ([1, 3, 2, 10, 12, 11, 15])"
   ]
  },
  {
   "cell_type": "code",
   "execution_count": 94,
   "id": "5fcf4730",
   "metadata": {
    "ExecuteTime": {
     "end_time": "2022-09-20T12:01:06.427989Z",
     "start_time": "2022-09-20T12:01:06.412029Z"
    }
   },
   "outputs": [
    {
     "name": "stdout",
     "output_type": "stream",
     "text": [
      "이름\n",
      "나이\n",
      "성별\n"
     ]
    }
   ],
   "source": [
    "#224\n",
    "\n",
    "def print_keys(a):\n",
    "    for i in  a.keys():\n",
    "        print(i)\n",
    "print_keys ({\"이름\":\"김말똥\", \"나이\":30, \"성별\":0})    "
   ]
  },
  {
   "cell_type": "code",
   "execution_count": 122,
   "id": "67eee778",
   "metadata": {
    "ExecuteTime": {
     "end_time": "2022-09-20T12:20:41.539236Z",
     "start_time": "2022-09-20T12:20:41.523955Z"
    }
   },
   "outputs": [
    {
     "name": "stdout",
     "output_type": "stream",
     "text": [
      "[100, 130, 100, 100]\n"
     ]
    }
   ],
   "source": [
    "#225\n",
    "def print_value_by_key (my_dict, key) :\n",
    "    print(my_dict[key])\n",
    "my_dict = {\"10/26\" : [100, 130, 100, 100],\n",
    "           \"10/27\" : [10, 12, 10, 11]}\n",
    "print_value_by_key  (my_dict, \"10/26\")"
   ]
  },
  {
   "cell_type": "code",
   "execution_count": 15,
   "id": "234af6b5",
   "metadata": {
    "ExecuteTime": {
     "end_time": "2022-09-21T13:12:15.607678Z",
     "start_time": "2022-09-21T13:12:15.603775Z"
    }
   },
   "outputs": [],
   "source": [
    "#226\n",
    "def print_5xn(line):\n",
    "    chunk_num = int(len(line)/5)\n",
    "    for x in range(chunk_num+1):\n",
    "        print(line[x * 5:x * 5+5])"
   ]
  },
  {
   "cell_type": "code",
   "execution_count": null,
   "id": "c640fbc4",
   "metadata": {},
   "outputs": [],
   "source": [
    "def print_5xn(string):\n",
    "    num "
   ]
  },
  {
   "cell_type": "code",
   "execution_count": 16,
   "id": "479bf84a",
   "metadata": {
    "ExecuteTime": {
     "end_time": "2022-09-21T13:12:16.439151Z",
     "start_time": "2022-09-21T13:12:16.435280Z"
    }
   },
   "outputs": [
    {
     "name": "stdout",
     "output_type": "stream",
     "text": [
      "아이엠어보\n",
      "이유알어걸\n",
      "큐트\n"
     ]
    }
   ],
   "source": [
    "print_5xn(\"아이엠어보이유알어걸큐트\")"
   ]
  },
  {
   "cell_type": "code",
   "execution_count": 14,
   "id": "1a0c6f54",
   "metadata": {
    "ExecuteTime": {
     "end_time": "2022-09-21T13:04:51.182253Z",
     "start_time": "2022-09-21T13:04:51.177374Z"
    }
   },
   "outputs": [
    {
     "name": "stdout",
     "output_type": "stream",
     "text": [
      "아이엠\n",
      "어보이\n",
      "유알어\n"
     ]
    },
    {
     "data": {
      "text/plain": [
       "2"
      ]
     },
     "execution_count": 14,
     "metadata": {},
     "output_type": "execute_result"
    }
   ],
   "source": [
    "#227\n",
    "def printmxn(line, n):\n",
    "    chunk_num = int(len(line)//n)\n",
    "    chunk_left = int(len(line)%n)\n",
    "    for x in range(chunk_num):\n",
    "        print(line[x*3:x*3+3])\n",
    "    return x\n",
    "    print(line[x*3])    \n",
    "    \n",
    "printmxn(\"아이엠어보이유알어걸\", 3)"
   ]
  },
  {
   "cell_type": "code",
   "execution_count": 125,
   "id": "20b34956",
   "metadata": {
    "ExecuteTime": {
     "end_time": "2022-09-20T12:41:20.057613Z",
     "start_time": "2022-09-20T12:41:20.045673Z"
    },
    "scrolled": true
   },
   "outputs": [
    {
     "name": "stdout",
     "output_type": "stream",
     "text": [
      "1000000\n"
     ]
    }
   ],
   "source": [
    "#228\n",
    "def calc_monthly_salary(a) :\n",
    "    print(a // 12)\n",
    "calc_monthly_salary(12000000)    "
   ]
  },
  {
   "cell_type": "code",
   "execution_count": 1,
   "id": "d922bb43",
   "metadata": {
    "ExecuteTime": {
     "end_time": "2022-09-21T12:16:43.397340Z",
     "start_time": "2022-09-21T12:16:43.393436Z"
    }
   },
   "outputs": [],
   "source": [
    "#232\n",
    "def make_url(a):\n",
    "    url = 'www.' + a + '.com'\n",
    "    return url"
   ]
  },
  {
   "cell_type": "code",
   "execution_count": 56,
   "id": "388fe9a5",
   "metadata": {
    "ExecuteTime": {
     "end_time": "2022-09-21T13:33:51.085899Z",
     "start_time": "2022-09-21T13:33:51.081995Z"
    }
   },
   "outputs": [
    {
     "name": "stdout",
     "output_type": "stream",
     "text": [
      "www.naver.com\n"
     ]
    }
   ],
   "source": [
    "print(make_url(\"naver\"))"
   ]
  },
  {
   "cell_type": "code",
   "execution_count": 84,
   "id": "37e1b53e",
   "metadata": {
    "ExecuteTime": {
     "end_time": "2022-09-21T13:52:27.516291Z",
     "start_time": "2022-09-21T13:52:27.512388Z"
    }
   },
   "outputs": [],
   "source": [
    "#233\n",
    "\n",
    "my_list=[]\n",
    "def make_list(n):\n",
    "    for i in n:\n",
    "        my_list.append(i)\n",
    "    return my_list"
   ]
  },
  {
   "cell_type": "code",
   "execution_count": 85,
   "id": "a16fdeff",
   "metadata": {
    "ExecuteTime": {
     "end_time": "2022-09-21T13:52:29.148542Z",
     "start_time": "2022-09-21T13:52:29.143661Z"
    }
   },
   "outputs": [
    {
     "data": {
      "text/plain": [
       "['a', 'b', 'c', 'd']"
      ]
     },
     "execution_count": 85,
     "metadata": {},
     "output_type": "execute_result"
    }
   ],
   "source": [
    "make_list(\"abcd\")"
   ]
  },
  {
   "cell_type": "code",
   "execution_count": 79,
   "id": "6731a7e9",
   "metadata": {
    "ExecuteTime": {
     "end_time": "2022-09-21T13:50:47.451905Z",
     "start_time": "2022-09-21T13:50:47.448028Z"
    }
   },
   "outputs": [],
   "source": [
    "#234\n",
    "my_pickup=[]\n",
    "def pickup_even(n):\n",
    "    for i in n:\n",
    "        if i % 2 == 0:\n",
    "            my_pickup.append(i) \n",
    "    return my_pickup"
   ]
  },
  {
   "cell_type": "code",
   "execution_count": 80,
   "id": "449ab325",
   "metadata": {
    "ExecuteTime": {
     "end_time": "2022-09-21T13:50:48.828796Z",
     "start_time": "2022-09-21T13:50:48.824866Z"
    }
   },
   "outputs": [
    {
     "name": "stdout",
     "output_type": "stream",
     "text": [
      "[4, 6, 8]\n"
     ]
    }
   ],
   "source": [
    "print(pickup_even([3, 4, 5, 6, 7, 8]))"
   ]
  },
  {
   "cell_type": "code",
   "execution_count": null,
   "id": "8ac0973b",
   "metadata": {},
   "outputs": [],
   "source": [
    "#235\n",
    "def convert_int(n):\n",
    "    "
   ]
  },
  {
   "cell_type": "code",
   "execution_count": null,
   "id": "5f140811",
   "metadata": {},
   "outputs": [],
   "source": [
    "convert_int(\"1,234,567\")"
   ]
  },
  {
   "cell_type": "code",
   "execution_count": null,
   "id": "1e4e2a32",
   "metadata": {},
   "outputs": [],
   "source": []
  }
 ],
 "metadata": {
  "kernelspec": {
   "display_name": "Python 3 (ipykernel)",
   "language": "python",
   "name": "python3"
  },
  "language_info": {
   "codemirror_mode": {
    "name": "ipython",
    "version": 3
   },
   "file_extension": ".py",
   "mimetype": "text/x-python",
   "name": "python",
   "nbconvert_exporter": "python",
   "pygments_lexer": "ipython3",
   "version": "3.9.12"
  },
  "toc": {
   "base_numbering": 1,
   "nav_menu": {},
   "number_sections": true,
   "sideBar": true,
   "skip_h1_title": false,
   "title_cell": "Table of Contents",
   "title_sidebar": "Contents",
   "toc_cell": false,
   "toc_position": {},
   "toc_section_display": true,
   "toc_window_display": false
  },
  "varInspector": {
   "cols": {
    "lenName": 16,
    "lenType": 16,
    "lenVar": 40
   },
   "kernels_config": {
    "python": {
     "delete_cmd_postfix": "",
     "delete_cmd_prefix": "del ",
     "library": "var_list.py",
     "varRefreshCmd": "print(var_dic_list())"
    },
    "r": {
     "delete_cmd_postfix": ") ",
     "delete_cmd_prefix": "rm(",
     "library": "var_list.r",
     "varRefreshCmd": "cat(var_dic_list()) "
    }
   },
   "types_to_exclude": [
    "module",
    "function",
    "builtin_function_or_method",
    "instance",
    "_Feature"
   ],
   "window_display": false
  }
 },
 "nbformat": 4,
 "nbformat_minor": 5
}
