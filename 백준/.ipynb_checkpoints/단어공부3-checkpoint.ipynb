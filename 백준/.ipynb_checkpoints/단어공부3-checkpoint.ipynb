{
 "cells": [
  {
   "cell_type": "code",
   "execution_count": 22,
   "id": "c2df0813",
   "metadata": {},
   "outputs": [
    {
     "name": "stdout",
     "output_type": "stream",
     "text": [
      "입력:abcdd\n"
     ]
    },
    {
     "ename": "AttributeError",
     "evalue": "'str' object has no attribute 'ccount'",
     "output_type": "error",
     "traceback": [
      "\u001b[1;31m---------------------------------------------------------------------------\u001b[0m",
      "\u001b[1;31mAttributeError\u001b[0m                            Traceback (most recent call last)",
      "Input \u001b[1;32mIn [22]\u001b[0m, in \u001b[0;36m<cell line: 5>\u001b[1;34m()\u001b[0m\n\u001b[0;32m      4\u001b[0m cnt \u001b[38;5;241m=\u001b[39m []\n\u001b[0;32m      5\u001b[0m \u001b[38;5;28;01mfor\u001b[39;00m i \u001b[38;5;129;01min\u001b[39;00m a_list:  \u001b[38;5;66;03m#count한것을 cnt리스트에 추가\u001b[39;00m\n\u001b[1;32m----> 6\u001b[0m     cnt\u001b[38;5;241m.\u001b[39mappend(\u001b[43ma\u001b[49m\u001b[38;5;241;43m.\u001b[39;49m\u001b[43mccount\u001b[49m(i))\n\u001b[0;32m      7\u001b[0m     \u001b[38;5;28mprint\u001b[39m(cnt)\n",
      "\u001b[1;31mAttributeError\u001b[0m: 'str' object has no attribute 'ccount'"
     ]
    }
   ],
   "source": [
    "a = input(\"입력:\").upper() # a를 대문자로 바꾸기\n",
    "a_list = list(set(a))# 집합set함수로 중복제거 후 리스트에 넣기(차례로넣어야해서)\n",
    "\n",
    "cnt = []\n",
    "for i in a_list:  #count한것을 cnt리스트에 추가\n",
    "    cnt.append(a.ccount(i))\n",
    "    \n",
    "Max = max(cnt)\n",
    "if cnt.count(Max(cnt)) > 1:\n",
    "    print(\"?\")\n",
    "else :\n",
    "    print(Max)\n",
    "    \n"
   ]
  },
  {
   "cell_type": "code",
   "execution_count": null,
   "id": "415b6555",
   "metadata": {},
   "outputs": [],
   "source": []
  }
 ],
 "metadata": {
  "kernelspec": {
   "display_name": "Python 3 (ipykernel)",
   "language": "python",
   "name": "python3"
  },
  "language_info": {
   "codemirror_mode": {
    "name": "ipython",
    "version": 3
   },
   "file_extension": ".py",
   "mimetype": "text/x-python",
   "name": "python",
   "nbconvert_exporter": "python",
   "pygments_lexer": "ipython3",
   "version": "3.9.12"
  }
 },
 "nbformat": 4,
 "nbformat_minor": 5
}
