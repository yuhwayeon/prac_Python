{
 "cells": [
  {
   "cell_type": "code",
   "execution_count": 2,
   "id": "c2df0813",
   "metadata": {},
   "outputs": [
    {
     "name": "stdout",
     "output_type": "stream",
     "text": [
      "?\n"
     ]
    }
   ],
   "source": [
    "a = input(\"입력:\").upper() # a를 대문자로 바꾸기\n",
    "a_list = list(set(a))# 집합set함수로 중복제거 후 리스트에 넣기(차례로넣어야해서)\n",
    "\n",
    "cnt = []\n",
    "for i in a_list:  #count한것을 cnt리스트에 추가\n",
    "    cnt.append(a.count(i)) \n",
    "    \n",
    "Max = max(cnt) #최대값을 Max로 받는다.\n",
    "if cnt.count(Max) > 1: \n",
    "    print(\"?\")\n",
    "else :\n",
    "    print(a_list[cnt.index(Max)])\n",
    "    \n"
   ]
  },
  {
   "cell_type": "code",
   "execution_count": 3,
   "id": "415b6555",
   "metadata": {},
   "outputs": [
    {
     "name": "stdout",
     "output_type": "stream",
     "text": [
      "Z\n"
     ]
    }
   ],
   "source": [
    "a = input().upper()\n",
    "\n",
    "list_a = list(set(a))\n",
    "# print(list_a)\n",
    "b = []\n",
    "for i in list_a:\n",
    "    b.append(a.count(i))\n",
    "\n",
    "Max = max(b) \n",
    "\n",
    "if b.count(Max) != 1:\n",
    "    print(\"?\")\n",
    "else:\n",
    "    print(list_a[b.index(Max)])\n"
   ]
  }
 ],
 "metadata": {
  "kernelspec": {
   "display_name": "Python 3.10.7 64-bit (microsoft store)",
   "language": "python",
   "name": "python3"
  },
  "language_info": {
   "codemirror_mode": {
    "name": "ipython",
    "version": 3
   },
   "file_extension": ".py",
   "mimetype": "text/x-python",
   "name": "python",
   "nbconvert_exporter": "python",
   "pygments_lexer": "ipython3",
   "version": "3.10.7"
  },
  "vscode": {
   "interpreter": {
    "hash": "58dbfdb34cf82127b32c5737e6183911655ff227e5c11e8f5e4b25048ae98ef2"
   }
  }
 },
 "nbformat": 4,
 "nbformat_minor": 5
}
